{
  "nbformat": 4,
  "nbformat_minor": 0,
  "metadata": {
    "colab": {
      "name": "Untitled1.ipynb",
      "provenance": [],
      "authorship_tag": "ABX9TyNEnTbp2clLIFaCrOOihPAj",
      "include_colab_link": true
    },
    "kernelspec": {
      "name": "python3",
      "display_name": "Python 3"
    },
    "language_info": {
      "name": "python"
    }
  },
  "cells": [
    {
      "cell_type": "markdown",
      "metadata": {
        "id": "view-in-github",
        "colab_type": "text"
      },
      "source": [
        "<a href=\"https://colab.research.google.com/github/xxiaoj/data-analylist-by-python/blob/master/pagerank_test.ipynb\" target=\"_parent\"><img src=\"https://colab.research.google.com/assets/colab-badge.svg\" alt=\"Open In Colab\"/></a>"
      ]
    },
    {
      "cell_type": "code",
      "metadata": {
        "colab": {
          "base_uri": "https://localhost:8080/"
        },
        "id": "ReaDo-XyfJw2",
        "outputId": "4d414239-aaea-4ec7-c19c-0d69882b71e3"
      },
      "source": [
        "pip install networks"
      ],
      "execution_count": 2,
      "outputs": [
        {
          "output_type": "stream",
          "text": [
            "Collecting networks\n",
            "  Downloading https://files.pythonhosted.org/packages/50/27/83dd161c34fd7535030aa3425aed8691e717f346b6752750b04efc3ef2e4/networks-0.3.7.tar.gz\n",
            "Collecting jsonpickle\n",
            "  Downloading https://files.pythonhosted.org/packages/bb/1a/f2db026d4d682303793559f1c2bb425ba3ec0d6fd7ac63397790443f2461/jsonpickle-2.0.0-py2.py3-none-any.whl\n",
            "Requirement already satisfied: numpy in /usr/local/lib/python3.7/dist-packages (from networks) (1.19.5)\n",
            "Requirement already satisfied: scipy in /usr/local/lib/python3.7/dist-packages (from networks) (1.4.1)\n",
            "Requirement already satisfied: matplotlib in /usr/local/lib/python3.7/dist-packages (from networks) (3.2.2)\n",
            "Requirement already satisfied: importlib-metadata; python_version < \"3.8\" in /usr/local/lib/python3.7/dist-packages (from jsonpickle->networks) (3.10.0)\n",
            "Requirement already satisfied: kiwisolver>=1.0.1 in /usr/local/lib/python3.7/dist-packages (from matplotlib->networks) (1.3.1)\n",
            "Requirement already satisfied: python-dateutil>=2.1 in /usr/local/lib/python3.7/dist-packages (from matplotlib->networks) (2.8.1)\n",
            "Requirement already satisfied: cycler>=0.10 in /usr/local/lib/python3.7/dist-packages (from matplotlib->networks) (0.10.0)\n",
            "Requirement already satisfied: pyparsing!=2.0.4,!=2.1.2,!=2.1.6,>=2.0.1 in /usr/local/lib/python3.7/dist-packages (from matplotlib->networks) (2.4.7)\n",
            "Requirement already satisfied: zipp>=0.5 in /usr/local/lib/python3.7/dist-packages (from importlib-metadata; python_version < \"3.8\"->jsonpickle->networks) (3.4.1)\n",
            "Requirement already satisfied: typing-extensions>=3.6.4; python_version < \"3.8\" in /usr/local/lib/python3.7/dist-packages (from importlib-metadata; python_version < \"3.8\"->jsonpickle->networks) (3.7.4.3)\n",
            "Requirement already satisfied: six>=1.5 in /usr/local/lib/python3.7/dist-packages (from python-dateutil>=2.1->matplotlib->networks) (1.15.0)\n",
            "Building wheels for collected packages: networks\n",
            "  Building wheel for networks (setup.py) ... \u001b[?25l\u001b[?25hdone\n",
            "  Created wheel for networks: filename=networks-0.3.7-cp37-none-any.whl size=11660 sha256=633568eb0731e36afb8cd8293c1878b456b1d489914a2c603798624af472a1af\n",
            "  Stored in directory: /root/.cache/pip/wheels/55/9e/63/81a23b99dce43789c8fbdfad83c533546cbbc43ccda4b9b1d1\n",
            "Successfully built networks\n",
            "Installing collected packages: jsonpickle, networks\n",
            "Successfully installed jsonpickle-2.0.0 networks-0.3.7\n"
          ],
          "name": "stdout"
        }
      ]
    },
    {
      "cell_type": "code",
      "metadata": {
        "id": "KAFvl9WefjFk"
      },
      "source": [
        "import networkx as nx\n",
        "import matplotlib.pyplot as plt"
      ],
      "execution_count": 5,
      "outputs": []
    },
    {
      "cell_type": "code",
      "metadata": {
        "id": "X8ZFEot0fvyR"
      },
      "source": [
        "# 创建有向图的边集合\n",
        "edges = [('A', 'B'), ('A', 'D'), ('A', 'E'), ('A', 'F'), ('B', 'C'), ('C', 'E'), ('D', 'A'), ('D', 'C'), \\\n",
        "         ('D', 'E'), ('E', 'B'), ('E', 'C'), ('F', 'D')]\n",
        "\n",
        "# 创建有向图\n",
        "G = nx.DiGraph()\n",
        "\n",
        "# 在有向图中添加边集合\n",
        "for edge in edges:\n",
        "    G.add_edge(edge[0], edge[1])\n",
        "    "
      ],
      "execution_count": 6,
      "outputs": []
    },
    {
      "cell_type": "code",
      "metadata": {
        "colab": {
          "base_uri": "https://localhost:8080/",
          "height": 319
        },
        "id": "1t-7tbY-f2hG",
        "outputId": "50b26ed8-e631-416b-c3ed-9164afdb0def"
      },
      "source": [
        "# 有向图可视化\n",
        "layout = nx.spring_layout(G)\n",
        "nx.draw(G, pos=layout, with_labels=True)\n",
        "plt.show()"
      ],
      "execution_count": 8,
      "outputs": [
        {
          "output_type": "display_data",
          "data": {
            "image/png": "[encoded data removed]",
            "text/plain": [
              "<Figure size 432x288 with 1 Axes>"
            ]
          },
          "metadata": {
            "tags": []
          }
        }
      ]
    },
    {
      "cell_type": "code",
      "metadata": {
        "colab": {
          "base_uri": "https://localhost:8080/"
        },
        "id": "5qGXQi3VglKN",
        "outputId": "c49ca654-cd36-45a2-fd1e-adada42f7cf0"
      },
      "source": [
        "# 计算简化模型的pr值\n",
        "pr1 = nx.pagerank(G, alpha=1)\n",
        "print(\"简化模型的pr值;\", pr1)\n",
        "\n",
        "\n",
        "# 计算随机模型的pr值\n",
        "pr2 = nx.pagerank(G, alpha=0.85)\n",
        "print(\"随机模型的pr值;\", pr2)"
      ],
      "execution_count": 9,
      "outputs": [
        {
          "output_type": "stream",
          "text": [
            "简化模型的pr值; {'A': 4.362295028000273e-11, 'B': 0.20000025428691245, 'D': 6.554246553540412e-11, 'E': 0.40000101720462666, 'F': 2.182304589249693e-11, 'C': 0.39999872837747247}\n",
            "随机模型的pr值; {'A': 0.04288042051996868, 'B': 0.17901275990207988, 'D': 0.0631073657542518, 'E': 0.3409441105134389, 'F': 0.034112089475917554, 'C': 0.3399432538343432}\n"
          ],
          "name": "stdout"
        }
      ]
    }
  ]
}